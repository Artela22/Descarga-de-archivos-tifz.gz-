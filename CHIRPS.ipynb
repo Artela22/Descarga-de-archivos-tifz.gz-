{
  "nbformat": 4,
  "nbformat_minor": 0,
  "metadata": {
    "colab": {
      "provenance": [],
      "include_colab_link": true
    },
    "kernelspec": {
      "name": "python3",
      "display_name": "Python 3"
    },
    "language_info": {
      "name": "python"
    }
  },
  "cells": [
    {
      "cell_type": "markdown",
      "metadata": {
        "id": "view-in-github",
        "colab_type": "text"
      },
      "source": [
        "<a href=\"https://colab.research.google.com/github/Artela22/Descarga-de-archivos-tifz.gz-/blob/main/CHIRPS.ipynb\" target=\"_parent\"><img src=\"https://colab.research.google.com/assets/colab-badge.svg\" alt=\"Open In Colab\"/></a>"
      ]
    },
    {
      "cell_type": "code",
      "execution_count": 1,
      "metadata": {
        "colab": {
          "base_uri": "https://localhost:8080/"
        },
        "id": "uib67VAmZctH",
        "outputId": "c3f320ec-6a31-4f93-a27c-5c8c5c842368"
      },
      "outputs": [
        {
          "output_type": "stream",
          "name": "stdout",
          "text": [
            "Mounted at /content/drive\n"
          ]
        }
      ],
      "source": [
        "import os\n",
        "import requests\n",
        "import datetime\n",
        "from google.colab import drive\n",
        "\n",
        "# Mount Google Drive\n",
        "drive.mount('/content/drive')\n"
      ]
    },
    {
      "cell_type": "code",
      "source": [
        "# Crear el directorio de trabajo\n",
        "dir_trabajo = '/content/drive/MyDrive/DESCARGA-CHIRPS-PYTHON' # Reemplaza 'CarpetaDestino' con la carpeta que quieres usar en tu Drive"
      ],
      "metadata": {
        "id": "lEFql_dgZkHj"
      },
      "execution_count": 2,
      "outputs": []
    },
    {
      "cell_type": "code",
      "source": [
        "# Define download parameters\n",
        "start_year = 2011\n",
        "end_year = 2011\n",
        "dir_trabajo = '/content/drive/MyDrive/DESCARGA-CHIRPS-PYTHON'\n",
        "\n",
        "# Daily download loop\n",
        "for year in range(start_year, end_year + 1):\n",
        "    for month in range(1, 13):\n",
        "        for day in range(1, 32):  # Assuming 31 days per month (adjust as needed)\n",
        "            try:\n",
        "                # Construct CHIRPS data URL\n",
        "                file_name = f\"chirps-v2.0.{year}.{month:02d}.{day:02d}.tif.gz\"\n",
        "                url = f\"https://data.chc.ucsb.edu/products/CHIRPS-2.0/global_daily/tifs/p05/2011/{file_name}\"\n",
        "\n",
        "                # Download and save the CHIRPS data file\n",
        "                response = requests.get(url, stream=True)\n",
        "                if response.status_code == 200:\n",
        "                    file_path = os.path.join(dir_trabajo, f\"{year}/{month:02d}/{file_name}\")\n",
        "                    os.makedirs(os.path.dirname(file_path), exist_ok=True)  # Create directories if needed\n",
        "                    with open(file_path, 'wb') as file:\n",
        "                        for chunk in response.iter_content(chunk_size=1024):\n",
        "                            if chunk:\n",
        "                                file.write(chunk)\n",
        "                    print(f\"Archivo {file_name} descargado con éxito en {dir_trabajo}.\")\n",
        "                else:\n",
        "                    print(f\"Error al descargar {file_name}: Código de estado {response.status_code}\")\n",
        "            except Exception as e:\n",
        "                print(f\"Error inesperado al descargar {file_name}: {e}\")\n",
        "\n",
        "print(\"Descarga completada!\")\n"
      ],
      "metadata": {
        "id": "SvaWdh7SZmDE"
      },
      "execution_count": null,
      "outputs": []
    }
  ]
}